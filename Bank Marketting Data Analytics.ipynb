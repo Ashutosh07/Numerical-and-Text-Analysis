{
  "nbformat": 4,
  "nbformat_minor": 0,
  "metadata": {
    "colab": {
      "name": "SIT742Assignment2.ipynb",
      "provenance": [],
      "collapsed_sections": [],
      "toc_visible": true,
      "include_colab_link": true
    },
    "language_info": {
      "mimetype": "text/x-python",
      "nbconvert_exporter": "python",
      "version": "3.5.5",
      "name": "python",
      "file_extension": ".py",
      "pygments_lexer": "ipython3",
      "codemirror_mode": {
        "version": 3,
        "name": "ipython"
      }
    },
    "kernelspec": {
      "display_name": "Python 3.5",
      "name": "python3",
      "language": "python"
    }
  },
  "cells": [
    {
      "cell_type": "markdown",
      "metadata": {
        "id": "view-in-github",
        "colab_type": "text"
      },
      "source": [
        "<a href=\"https://colab.research.google.com/github/Ashutosh07/MyPythonProject/blob/main/Bank%20Marketting%20Data%20Analytics.ipynb\" target=\"_parent\"><img src=\"https://colab.research.google.com/assets/colab-badge.svg\" alt=\"Open In Colab\"/></a>"
      ]
    },
    {
      "cell_type": "markdown",
      "metadata": {
        "id": "_th7e2nu0At7"
      },
      "source": [
        "# SIT742: Modern Data Science \n",
        "**(Assessment Task 02: Bank Marketing Data Analytics)**\n",
        "\n",
        "---\n",
        "- Materials in this module include resources collected from various open-source online repositories.\n",
        "- You are free to use, change and distribute this package.\n",
        "\n",
        "Prepared by **SIT742 Teaching Team**\n",
        "\n",
        "\n",
        "---\n",
        "\n",
        "**Project Group Information:**\n",
        "\n",
        "- Names:\n",
        "         Ashutosh Shukla\n",
        "         Karthik Mudayanti\n",
        "         Sriram Tejeswar Musarakallu\n",
        "                      \n",
        "- Student IDs: \n",
        "          217669865\n",
        "          218353626\n",
        "          218641396\n",
        "- Emails:\n",
        "          shuklaa@deakin.edu.au\n",
        "          kmudayanti@deakin.edu.au\n",
        "          smusarakallu@deakin.edu.au\n",
        "---"
      ]
    },
    {
      "cell_type": "markdown",
      "metadata": {
        "id": "eASNvREtBU9G"
      },
      "source": [
        "# 1.Import Spark"
      ]
    },
    {
      "cell_type": "code",
      "metadata": {
        "id": "duCJfMrnGu00",
        "cellView": "code",
        "colab": {
          "base_uri": "https://localhost:8080/",
          "height": 173
        },
        "outputId": "05cad01e-b840-4ba4-f629-7af1bcbbb7a5"
      },
      "source": [
        "!pip install wget\n",
        "!apt-get install openjdk-8-jdk-headless -qq > /dev/null\n",
        "!wget -q https://archive.apache.org/dist/spark/spark-2.4.0/spark-2.4.0-bin-hadoop2.7.tgz\n",
        "!tar xf spark-2.4.0-bin-hadoop2.7.tgz\n",
        "!pip install -q findspark\n",
        "import os\n",
        "os.environ[\"JAVA_HOME\"] = \"/usr/lib/jvm/java-8-openjdk-amd64\"\n",
        "os.environ[\"SPARK_HOME\"] = \"/content/spark-2.4.0-bin-hadoop2.7\""
      ],
      "execution_count": null,
      "outputs": [
        {
          "output_type": "stream",
          "text": [
            "Collecting wget\n",
            "  Downloading https://files.pythonhosted.org/packages/47/6a/62e288da7bcda82b935ff0c6cfe542970f04e29c756b0e147251b2fb251f/wget-3.2.zip\n",
            "Building wheels for collected packages: wget\n",
            "  Building wheel for wget (setup.py) ... \u001b[?25l\u001b[?25hdone\n",
            "  Stored in directory: /root/.cache/pip/wheels/40/15/30/7d8f7cea2902b4db79e3fea550d7d7b85ecb27ef992b618f3f\n",
            "Successfully built wget\n",
            "Installing collected packages: wget\n",
            "Successfully installed wget-3.2\n"
          ],
          "name": "stdout"
        }
      ]
    },
    {
      "cell_type": "code",
      "metadata": {
        "id": "aGOo805LA-fM"
      },
      "source": [
        "import findspark\n",
        "findspark.init()\n",
        "from pyspark.sql import SparkSession \n",
        "from pyspark import SparkContext\n",
        "from pyspark.sql import SQLContext\n",
        "sc = SparkContext.getOrCreate()"
      ],
      "execution_count": null,
      "outputs": []
    },
    {
      "cell_type": "markdown",
      "metadata": {
        "id": "K7bEtO_fBZmE"
      },
      "source": [
        "# 2.Read and check data"
      ]
    },
    {
      "cell_type": "code",
      "metadata": {
        "id": "EADPspOv0Auh"
      },
      "source": [
        "import wget\n",
        "link_to_data = 'https://github.com/tulip-lab/sit742/raw/master/Assessment/2019/data/bank.csv'\n",
        "DataSet = wget.download(link_to_data)"
      ],
      "execution_count": null,
      "outputs": []
    },
    {
      "cell_type": "code",
      "metadata": {
        "id": "tiM-PiiR0Aup",
        "colab": {
          "base_uri": "https://localhost:8080/",
          "height": 50
        },
        "outputId": "38e0e5a1-c0b6-4861-c216-f523e636327f"
      },
      "source": [
        "!ls"
      ],
      "execution_count": null,
      "outputs": [
        {
          "output_type": "stream",
          "text": [
            "sample_data\n",
            "bank.csv  sample_data  spark-2.4.0-bin-hadoop2.7  spark-2.4.0-bin-hadoop2.7.tgz\n"
          ],
          "name": "stdout"
        }
      ]
    },
    {
      "cell_type": "code",
      "metadata": {
        "id": "FQ8Ts9eZBA-M",
        "colab": {
          "base_uri": "https://localhost:8080/",
          "height": 505
        },
        "outputId": "59140f97-7a32-4e7e-deec-83bf775f4463"
      },
      "source": [
        "# Import the 'bank.csv' as a Spark dataframe and name it as df\n",
        "spark = SparkSession.builder.appName('ml-bank').getOrCreate()\n",
        "df = spark.read.csv('bank.csv', header = True, inferSchema = True) \n",
        "df.printSchema() \n",
        "df.show(5)"
      ],
      "execution_count": null,
      "outputs": [
        {
          "output_type": "stream",
          "text": [
            "root\n",
            " |-- age: integer (nullable = true)\n",
            " |-- job: string (nullable = true)\n",
            " |-- marital: string (nullable = true)\n",
            " |-- education: string (nullable = true)\n",
            " |-- default: string (nullable = true)\n",
            " |-- balance: integer (nullable = true)\n",
            " |-- housing: string (nullable = true)\n",
            " |-- loan: string (nullable = true)\n",
            " |-- contact: string (nullable = true)\n",
            " |-- day: integer (nullable = true)\n",
            " |-- month: string (nullable = true)\n",
            " |-- duration: integer (nullable = true)\n",
            " |-- campaign: integer (nullable = true)\n",
            " |-- pdays: integer (nullable = true)\n",
            " |-- previous: integer (nullable = true)\n",
            " |-- poutcome: string (nullable = true)\n",
            " |-- deposit: string (nullable = true)\n",
            "\n",
            "+---+----------+-------+---------+-------+-------+-------+----+-------+---+-----+--------+--------+-----+--------+--------+-------+\n",
            "|age|       job|marital|education|default|balance|housing|loan|contact|day|month|duration|campaign|pdays|previous|poutcome|deposit|\n",
            "+---+----------+-------+---------+-------+-------+-------+----+-------+---+-----+--------+--------+-----+--------+--------+-------+\n",
            "| 59|    admin.|married|secondary|     no|   2343|    yes|  no|unknown|  5|  may|    1042|       1|   -1|       0| unknown|    yes|\n",
            "| 56|    admin.|married|secondary|     no|     45|     no|  no|unknown|  5|  may|    1467|       1|   -1|       0| unknown|    yes|\n",
            "| 41|technician|married|secondary|     no|   1270|    yes|  no|unknown|  5|  may|    1389|       1|   -1|       0| unknown|    yes|\n",
            "| 55|  services|married|secondary|     no|   2476|    yes|  no|unknown|  5|  may|     579|       1|   -1|       0| unknown|    yes|\n",
            "| 54|    admin.|married| tertiary|     no|    184|     no|  no|unknown|  5|  may|     673|       2|   -1|       0| unknown|    yes|\n",
            "+---+----------+-------+---------+-------+-------+-------+----+-------+---+-----+--------+--------+-----+--------+--------+-------+\n",
            "only showing top 5 rows\n",
            "\n"
          ],
          "name": "stdout"
        }
      ]
    },
    {
      "cell_type": "code",
      "metadata": {
        "id": "XJGWVc0yB0UA",
        "colab": {
          "base_uri": "https://localhost:8080/",
          "height": 200
        },
        "outputId": "7e0449ac-6815-4064-81fd-763fa8068ec9"
      },
      "source": [
        "# Check data distribution\n",
        "# You may use printSchema() \n",
        "df.describe(['age', 'job', 'marital', 'education', 'default', 'balance', 'housing', 'loan', 'campaign', 'pdays', 'previous', 'poutcome', 'deposit']).show()"
      ],
      "execution_count": null,
      "outputs": [
        {
          "output_type": "stream",
          "text": [
            "+-------+------------------+-------+--------+---------+-------+------------------+-------+-----+------------------+------------------+------------------+--------+-------+\n",
            "|summary|               age|    job| marital|education|default|           balance|housing| loan|          campaign|             pdays|          previous|poutcome|deposit|\n",
            "+-------+------------------+-------+--------+---------+-------+------------------+-------+-----+------------------+------------------+------------------+--------+-------+\n",
            "|  count|             11162|  11162|   11162|    11162|  11162|             11162|  11162|11162|             11162|             11162|             11162|   11162|  11162|\n",
            "|   mean|41.231947679627304|   null|    null|     null|   null|1528.5385235620856|   null| null| 2.508421429851281| 51.33040673714388|0.8325568894463358|    null|   null|\n",
            "| stddev|11.913369192215518|   null|    null|     null|   null| 3225.413325946149|   null| null|2.7220771816614824|108.75828197197717| 2.292007218670508|    null|   null|\n",
            "|    min|                18| admin.|divorced|  primary|     no|             -6847|     no|   no|                 1|                -1|                 0| failure|     no|\n",
            "|    max|                95|unknown|  single|  unknown|    yes|             81204|    yes|  yes|                63|               854|                58| unknown|    yes|\n",
            "+-------+------------------+-------+--------+---------+-------+------------------+-------+-----+------------------+------------------+------------------+--------+-------+\n",
            "\n"
          ],
          "name": "stdout"
        }
      ]
    },
    {
      "cell_type": "markdown",
      "metadata": {
        "id": "wKQMhrtFChHa"
      },
      "source": [
        "# 3.Select features"
      ]
    },
    {
      "cell_type": "code",
      "metadata": {
        "id": "VU5xMqN_RyM2"
      },
      "source": [
        "#Select features ('age', 'job', 'marital', 'education', 'default', 'balance', 'housing', 'loan', 'campaign', 'pdays', 'previous', 'poutcome', 'deposit') as df2\n",
        "df2=df.select('age', 'job', 'marital', 'education', 'default', 'balance', 'housing', 'loan', 'campaign', 'pdays', 'previous', 'poutcome', 'deposit')\n"
      ],
      "execution_count": null,
      "outputs": []
    },
    {
      "cell_type": "code",
      "metadata": {
        "id": "vwF5sqRYa_eI",
        "colab": {
          "base_uri": "https://localhost:8080/",
          "height": 862
        },
        "outputId": "b38d211c-2602-4cfa-e10f-afdf2da21dc9"
      },
      "source": [
        "#Remove invalid rows/records using spark.sql \n",
        "df2.printSchema()\n",
        " \n",
        "#Showing first 5 rows of df2\n",
        "df2.show(5)\n",
        " \n",
        " \n",
        "#Register df2 as table \"bank\"\n",
        "df2.registerTempTable(\"bank\")\n",
        " \n",
        "#Using spark.sql filter out rows with attributes with \"unknown\"\n",
        "#Not all attribute are having \"unknown\" value, so not all attributes put into this section.\n",
        "#Hence, poutcome can only be \"success\" or \"failure\", so row with \"other\" in this attribute also will be filter out. \n",
        "df3=spark.sql(\"SELECT * FROM bank WHERE job <> 'unknown' AND education <> 'unknown' AND poutcome <> 'unknown' AND poutcome <> 'other'\")\n",
        "\n",
        "#Showing contents of filtered dataframe\n",
        "df3.printSchema() \n",
        " \n",
        "#..and first 5 rows\n",
        "df3.show(5)"
      ],
      "execution_count": null,
      "outputs": [
        {
          "output_type": "stream",
          "text": [
            "root\n",
            " |-- age: integer (nullable = true)\n",
            " |-- job: string (nullable = true)\n",
            " |-- marital: string (nullable = true)\n",
            " |-- education: string (nullable = true)\n",
            " |-- default: string (nullable = true)\n",
            " |-- balance: integer (nullable = true)\n",
            " |-- housing: string (nullable = true)\n",
            " |-- loan: string (nullable = true)\n",
            " |-- campaign: integer (nullable = true)\n",
            " |-- pdays: integer (nullable = true)\n",
            " |-- previous: integer (nullable = true)\n",
            " |-- poutcome: string (nullable = true)\n",
            " |-- deposit: string (nullable = true)\n",
            "\n",
            "+---+----------+-------+---------+-------+-------+-------+----+--------+-----+--------+--------+-------+\n",
            "|age|       job|marital|education|default|balance|housing|loan|campaign|pdays|previous|poutcome|deposit|\n",
            "+---+----------+-------+---------+-------+-------+-------+----+--------+-----+--------+--------+-------+\n",
            "| 59|    admin.|married|secondary|     no|   2343|    yes|  no|       1|   -1|       0| unknown|    yes|\n",
            "| 56|    admin.|married|secondary|     no|     45|     no|  no|       1|   -1|       0| unknown|    yes|\n",
            "| 41|technician|married|secondary|     no|   1270|    yes|  no|       1|   -1|       0| unknown|    yes|\n",
            "| 55|  services|married|secondary|     no|   2476|    yes|  no|       1|   -1|       0| unknown|    yes|\n",
            "| 54|    admin.|married| tertiary|     no|    184|     no|  no|       2|   -1|       0| unknown|    yes|\n",
            "+---+----------+-------+---------+-------+-------+-------+----+--------+-----+--------+--------+-------+\n",
            "only showing top 5 rows\n",
            "\n",
            "root\n",
            " |-- age: integer (nullable = true)\n",
            " |-- job: string (nullable = true)\n",
            " |-- marital: string (nullable = true)\n",
            " |-- education: string (nullable = true)\n",
            " |-- default: string (nullable = true)\n",
            " |-- balance: integer (nullable = true)\n",
            " |-- housing: string (nullable = true)\n",
            " |-- loan: string (nullable = true)\n",
            " |-- campaign: integer (nullable = true)\n",
            " |-- pdays: integer (nullable = true)\n",
            " |-- previous: integer (nullable = true)\n",
            " |-- poutcome: string (nullable = true)\n",
            " |-- deposit: string (nullable = true)\n",
            "\n",
            "+---+----------+-------+---------+-------+-------+-------+----+--------+-----+--------+--------+-------+\n",
            "|age|       job|marital|education|default|balance|housing|loan|campaign|pdays|previous|poutcome|deposit|\n",
            "+---+----------+-------+---------+-------+-------+-------+----+--------+-----+--------+--------+-------+\n",
            "| 33|  services|married|secondary|     no|   3444|    yes|  no|       1|   91|       4| failure|    yes|\n",
            "| 56|technician|married|secondary|     no|    589|    yes|  no|       1|  147|       2| success|    yes|\n",
            "| 34|    admin.|married| tertiary|     no|    899|    yes|  no|       1|  170|       3| failure|    yes|\n",
            "| 53|   retired|married| tertiary|     no|   2269|     no|  no|       2|  150|       1| success|    yes|\n",
            "| 37|technician|married|secondary|     no|   5115|    yes|  no|       2|  171|       4| failure|    yes|\n",
            "+---+----------+-------+---------+-------+-------+-------+----+--------+-----+--------+--------+-------+\n",
            "only showing top 5 rows\n",
            "\n"
          ],
          "name": "stdout"
        }
      ]
    },
    {
      "cell_type": "code",
      "metadata": {
        "id": "A_T8qvxzR-oI",
        "colab": {
          "base_uri": "https://localhost:8080/",
          "height": 115
        },
        "outputId": "4391c4d9-cb5f-43a5-9c68-fe2ef965f763"
      },
      "source": [
        "#Covert categorical features to metric features using One hot encoding\n",
        "from pyspark.ml import Pipeline\n",
        "from pyspark.ml.feature import StringIndexer, OneHotEncoderEstimator\n",
        "from pyspark.ml.feature import VectorAssembler\n",
        " \n",
        "#Transforme categorical data into indexes for further transformation by StringIndexer.\n",
        "#This step is to selecting categorical attributes for transforme into indexes\n",
        "indexers=[StringIndexer(inputCol=column, outputCol=column+\"_index\").fit(df3) for column in list(set(df3.columns)-set(['age', 'balance', 'campaign', 'pdays', 'previous','deposit']))]\n",
        " \n",
        "#Transforme multiple categorical attributres by with the help of Pipeline.\n",
        "pipeline=Pipeline(stages=indexers)\n",
        "df4=pipeline.fit(df3).transform(df3)\n",
        " \n",
        "#Defining what columns should use One-Hot Encoding, and also the output columns.\n",
        "encoder=OneHotEncoderEstimator(inputCols=[\"housing_index\", \"marital_index\", \"default_index\", \"loan_index\", \"job_index\", \"education_index\", \"poutcome_index\"],\n",
        "                              outputCols=[\"housing_vec\", \"marital_vec\", \"default_vec\", \"loan_vec\", \"job_vec\", \"education_vec\", \"poutcome_vec\"])\n",
        " \n",
        "#Step of One-Hot Encoding transformation.\n",
        "model_ohe=encoder.fit(df4)\n",
        "df5=model_ohe.transform(df4)\n",
        " \n",
        "#Delect the original and index data for categorical attribues, only left the transformed result and numerical data.\n",
        "df6=df5.select([column for column in df5.columns if column not in [\"housing\", \"marital\", \"default\", \"loan\", \"job\", \"education\", \"poutcome\", \n",
        "                                                                  \"housing_index\", \"marital_index\", \"default_index\", \"loan_index\", \"job_index\", \"education_index\", \"poutcome_index\"]])\n",
        " \n",
        "#Assemble all features into one attribute, for prepare of normalization.\n",
        "assembler=VectorAssembler(inputCols=[\"age\", \"balance\", \"campaign\", \"pdays\", \"previous\", \"job_vec\", \"education_vec\", \"marital_vec\", \"poutcome_vec\", \"housing_vec\", \"loan_vec\", \"default_vec\"], outputCol=\"features\")\n",
        "df7=assembler.transform(df6)\n",
        " \n",
        "#Only left the feature attribute.\n",
        "df8=df7.select(\"features\")\n",
        " \n",
        "#...and also showing the content\n",
        "df8.printSchema()\n",
        " \n",
        " \n",
        "from pyspark.ml.feature import StringIndexer\n",
        "#Because the attribute \"deposit\" is also the label, so we select \"deposit\" to a single dataframe as y\n",
        "y_df1=df3.select(\"deposit\")\n",
        " \n",
        "#...also transforme label into index type by using StringIndexer\n",
        "indexer=StringIndexer(inputCol=\"deposit\", outputCol=\"deposit_index\")\n",
        "y_df2=indexer.fit(y_df1).transform(y_df1)\n",
        " \n",
        "#...and store as y\n",
        "y=y_df2.select('deposit_index')\n",
        " \n",
        "y.printSchema()"
      ],
      "execution_count": null,
      "outputs": [
        {
          "output_type": "stream",
          "text": [
            "root\n",
            " |-- features: vector (nullable = true)\n",
            "\n",
            "root\n",
            " |-- deposit_index: double (nullable = false)\n",
            "\n"
          ],
          "name": "stdout"
        }
      ]
    },
    {
      "cell_type": "markdown",
      "metadata": {
        "id": "pOqHERYJCQuC"
      },
      "source": [
        "## 3.1 normalisation"
      ]
    },
    {
      "cell_type": "code",
      "metadata": {
        "id": "cfL6_sca5VwI",
        "colab": {
          "base_uri": "https://localhost:8080/",
          "height": 898
        },
        "outputId": "da87bbff-4937-47b6-b7ad-98b76704116a"
      },
      "source": [
        "#Apply Min-Max normalisation on each attribute using MinMaxScaler  \n",
        "from pyspark.ml.feature import MinMaxScaler \n",
        " \n",
        "#Using MinMaxScaler for column \"features\" normalnization\n",
        "scaler=MinMaxScaler(inputCol=\"features\", outputCol=\"scaledFeatures\")\n",
        "scalerModel=scaler.fit(df8)\n",
        "scaled=scalerModel.transform(df8)\n",
        " \n",
        "#Print the scaled range\n",
        "print(\"Features scaled to range: [%f, %f]\" % (scaler.getMin(), scaler.getMax()))\n",
        " \n",
        "#...and also store as dataframe X\n",
        "X=scaled.select(\"scaledFeatures\")\n",
        "X.show(truncate=False)\n",
        " \n",
        "\n",
        " \n",
        "from pyspark.sql.functions import monotonically_increasing_id \n",
        " \n",
        "#Generating \"id\" for both X and y dataframe for merging\n",
        "X_index = X.select(\"*\").withColumn(\"id\", monotonically_increasing_id())\n",
        "y_index = y.select(\"*\").withColumn(\"id\", monotonically_increasing_id())\n",
        " \n",
        "#Merging X and y into one dataframe\n",
        "data_model = y_index.join(X_index, \"id\", \"outer\").drop(\"id\") \n",
        " \n",
        "#Transform into dataframe, store as df100\n",
        "df100=data_model.toDF('label', 'features')\n",
        "df100.show()"
      ],
      "execution_count": null,
      "outputs": [
        {
          "output_type": "stream",
          "text": [
            "Features scaled to range: [0.000000, 1.000000]\n",
            "+-------------------------------------------------------------------------------------------------------------------------------------------------------------------------------+\n",
            "|scaledFeatures                                                                                                                                                                 |\n",
            "+-------------------------------------------------------------------------------------------------------------------------------------------------------------------------------+\n",
            "|[0.21428571428571427,0.05334664361715079,0.0,0.10550996483001172,0.05555555555555555,0.0,0.0,0.0,0.0,0.0,1.0,0.0,0.0,0.0,0.0,1.0,0.0,1.0,0.0,1.0,0.0,1.0,1.0]                  |\n",
            "|[0.5428571428571428,0.018589759197487277,0.0,0.17116060961313012,0.018518518518518517,0.0,1.0,0.0,0.0,0.0,0.0,0.0,0.0,0.0,0.0,1.0,0.0,1.0,0.0,0.0,0.0,1.0,1.0]                 |\n",
            "|[0.22857142857142856,0.02236371162133866,0.0,0.1981242672919109,0.037037037037037035,0.0,0.0,1.0,0.0,0.0,0.0,0.0,0.0,0.0,0.0,0.0,1.0,1.0,0.0,1.0,0.0,1.0,1.0]                  |\n",
            "|[0.5,0.03904214652674637,0.09090909090909091,0.1746776084407972,0.0,0.0,0.0,0.0,0.0,1.0,0.0,0.0,0.0,0.0,0.0,0.0,1.0,1.0,0.0,0.0,1.0,1.0,1.0]                                   |\n",
            "|[0.2714285714285714,0.07368946458571742,0.09090909090909091,0.19929660023446658,0.05555555555555555,0.0,1.0,0.0,0.0,0.0,0.0,0.0,0.0,0.0,0.0,1.0,0.0,1.0,0.0,1.0,0.0,1.0,1.0]   |\n",
            "|[0.38571428571428573,0.020927174892259745,0.09090909090909091,0.14654161781946073,0.018518518518518517,0.0,0.0,0.0,0.0,0.0,0.0,0.0,0.0,0.0,1.0,1.0,0.0,1.0,0.0,1.0,1.0,0.0,1.0]|\n",
            "|[0.4,0.05225098001022619,0.0,0.20281359906213364,0.0,0.0,0.0,0.0,0.0,0.0,0.0,0.0,1.0,0.0,0.0,1.0,0.0,0.0,0.0,0.0,0.0,1.0,1.0]                                                  |\n",
            "|[0.3142857142857143,0.05222663193007231,0.09090909090909091,0.03048065650644783,0.0,1.0,0.0,0.0,0.0,0.0,0.0,0.0,0.0,0.0,0.0,0.0,1.0,1.0,0.0,0.0,0.0,1.0,1.0]                   |\n",
            "|[0.2,0.0680772321102481,0.0,0.1488862837045721,0.018518518518518517,0.0,1.0,0.0,0.0,0.0,0.0,0.0,0.0,0.0,0.0,0.0,1.0,1.0,0.0,1.0,0.0,0.0,1.0]                                   |\n",
            "|[0.17142857142857143,0.017518443670716564,0.0,0.2063305978898007,0.0,0.0,0.0,0.0,1.0,0.0,0.0,0.0,0.0,0.0,0.0,1.0,0.0,1.0,0.0,1.0,0.0,0.0,1.0]                                  |\n",
            "|[0.4,0.011419249592169658,0.0,0.19460726846424384,0.0,0.0,1.0,0.0,0.0,0.0,0.0,0.0,0.0,0.0,0.0,0.0,1.0,1.0,0.0,1.0,1.0,1.0,1.0]                                                 |\n",
            "|[0.2857142857142857,0.024932434077572983,0.09090909090909091,0.21336459554513482,0.018518518518518517,0.0,0.0,0.0,0.0,0.0,0.0,0.0,0.0,0.0,1.0,0.0,1.0,1.0,0.0,1.0,0.0,1.0,1.0] |\n",
            "|[0.2,0.02338633098780161,0.09090909090909091,0.15474794841735054,0.0,0.0,0.0,0.0,0.0,0.0,1.0,0.0,0.0,0.0,0.0,1.0,0.0,1.0,0.0,1.0,0.0,1.0,1.0]                                  |\n",
            "|[0.18571428571428572,0.015241898176328797,0.18181818181818182,0.20750293083235638,0.1111111111111111,0.0,0.0,0.0,0.0,0.0,0.0,0.0,1.0,0.0,0.0,1.0,0.0,1.0,0.0,1.0,0.0,1.0,1.0]  |\n",
            "|[0.45714285714285713,0.1638260573153807,0.18181818181818182,0.038686987104337635,0.0,0.0,0.0,0.0,1.0,0.0,0.0,0.0,0.0,0.0,0.0,0.0,0.0,1.0,0.0,1.0,0.0,1.0,1.0]                  |\n",
            "|[0.4142857142857143,0.011419249592169658,0.0,0.010550996483001172,0.0,0.0,1.0,0.0,0.0,0.0,0.0,0.0,0.0,0.0,0.0,1.0,0.0,1.0,0.0,1.0,1.0,1.0,1.0]                                 |\n",
            "|[0.5857142857142857,0.09723405809451925,0.0,0.1899179366940211,0.018518518518518517,1.0,0.0,0.0,0.0,0.0,0.0,0.0,0.0,0.0,0.0,0.0,1.0,1.0,0.0,1.0,1.0,1.0,1.0]                   |\n",
            "|[0.18571428571428572,0.11646904141608434,0.0,0.21453692848769051,0.018518518518518517,1.0,0.0,0.0,0.0,0.0,0.0,0.0,0.0,0.0,0.0,1.0,0.0,1.0,0.0,1.0,0.0,1.0,1.0]                 |\n",
            "|[0.5,0.03305251880889192,0.36363636363636365,0.17936694021101993,0.0,0.0,0.0,0.0,1.0,0.0,0.0,0.0,0.0,0.0,0.0,1.0,0.0,1.0,0.0,1.0,0.0,1.0,1.0]                                  |\n",
            "|[0.3142857142857143,0.03145771955881279,0.0,0.2825322391559203,0.018518518518518517,0.0,1.0,0.0,0.0,0.0,0.0,0.0,0.0,0.0,0.0,0.0,1.0,0.0,1.0,1.0,0.0,1.0,1.0]                   |\n",
            "+-------------------------------------------------------------------------------------------------------------------------------------------------------------------------------+\n",
            "only showing top 20 rows\n",
            "\n",
            "+-----+--------------------+\n",
            "|label|            features|\n",
            "+-----+--------------------+\n",
            "|  0.0|[0.32857142857142...|\n",
            "|  0.0|[0.18571428571428...|\n",
            "|  0.0|[0.55714285714285...|\n",
            "|  0.0|[0.27142857142857...|\n",
            "|  1.0|[0.57142857142857...|\n",
            "|  1.0|[0.28571428571428...|\n",
            "|  1.0|[0.17142857142857...|\n",
            "|  1.0|[0.27142857142857...|\n",
            "|  1.0|[0.28571428571428...|\n",
            "|  0.0|[0.2,0.0149984173...|\n",
            "|  0.0|[0.24285714285714...|\n",
            "|  0.0|[0.1,0.0212558739...|\n",
            "|  0.0|[0.48571428571428...|\n",
            "|  0.0|[0.34285714285714...|\n",
            "|  0.0|[0.22857142857142...|\n",
            "|  0.0|[0.52857142857142...|\n",
            "|  0.0|[0.21428571428571...|\n",
            "|  0.0|[0.2,0.0121983881...|\n",
            "|  0.0|[0.04285714285714...|\n",
            "|  1.0|[0.38571428571428...|\n",
            "+-----+--------------------+\n",
            "only showing top 20 rows\n",
            "\n"
          ],
          "name": "stdout"
        }
      ]
    },
    {
      "cell_type": "markdown",
      "metadata": {
        "id": "9trUY7ZgCzhW"
      },
      "source": [
        "# 4.Unsupervised learning"
      ]
    },
    {
      "cell_type": "markdown",
      "metadata": {
        "id": "KTQfUch2Cmmi"
      },
      "source": [
        "## 4.1 K-means"
      ]
    },
    {
      "cell_type": "code",
      "metadata": {
        "id": "dGGZI70Ohqgg",
        "colab": {
          "base_uri": "https://localhost:8080/",
          "height": 700
        },
        "outputId": "fba249e8-5944-4a0a-8f9b-d200d49123b5"
      },
      "source": [
        "# Perform unsupervised learning on df2 with k-means \n",
        "# You can use whole df2 as both training and testing data, \n",
        "# Evaluate the clustering result using Accuracy.  \n",
        "\n",
        "from pyspark.ml.clustering import KMeans\n",
        "from pyspark.ml.evaluation import ClusteringEvaluator\n",
        "from pyspark.ml.evaluation import MulticlassClassificationEvaluator\n",
        "from pyspark.ml.evaluation import BinaryClassificationEvaluator \n",
        "from pyspark.ml.feature import StringIndexer\n",
        "from pyspark.sql.types import DoubleType\n",
        "\n",
        "#Setting up k-means cluster parameter\n",
        "#Because we need to \"estimate\" the label of data, so we only performe 2 cluster for getting close to the binomial label...\n",
        "k_means=KMeans().setK(2).setSeed(1)\n",
        "\n",
        "#Applying k-means cluster\n",
        "cluster=k_means.fit(df100)\n",
        "cluster_predictions=cluster.transform(df100)\n",
        "\n",
        "#First evalustor for cluster: ClusteringEvaluator, by using silhouette criteria\n",
        "evaluator=ClusteringEvaluator()\n",
        "silhouette = evaluator.evaluate(cluster_predictions)\n",
        "print(\"Silhouette with squared distnce is :\" + str(silhouette))\n",
        "\n",
        "#The second evalustor: MulticlassClassificationEvaluator, by using accuracy criteria\n",
        "kmeans_acc_evaluator = MulticlassClassificationEvaluator()\n",
        "\n",
        "#But first we need to transfrome datatype for k-means model's prediction: integer to binomial\n",
        "cluster_predictions.printSchema()\n",
        "cluster_predictions_1 = cluster_predictions.withColumn(\"prediction\", cluster_predictions[\"prediction\"].cast(\"double\"))\n",
        "\n",
        "#Then apply accuracy criteria for cluster model\n",
        "print(\"Test Accuracy: \" + str(kmeans_acc_evaluator.evaluate(cluster_predictions_1, {kmeans_acc_evaluator.metricName: \"accuracy\"})))\n",
        "\n",
        "#Showing the centroids of cluster.\n",
        "centers = cluster.clusterCenters()\n",
        "print(\"Cluster Centers: \")\n",
        "for center in centers:\n",
        "    print(center)\n",
        "\n",
        "#...and showing some prediction result for k-means cluster model\n",
        "cluster_predictions_1.show()\n"
      ],
      "execution_count": null,
      "outputs": [
        {
          "output_type": "stream",
          "text": [
            "Silhouette with squared distnce is :0.30166852656793497\n",
            "root\n",
            " |-- label: double (nullable = true)\n",
            " |-- features: vector (nullable = true)\n",
            " |-- prediction: integer (nullable = false)\n",
            "\n",
            "Test Accuracy: 0.5341586428243925\n",
            "Cluster Centers: \n",
            "[0.40558781 0.03262809 0.07362449 0.23606089 0.03959039 0.22060958\n",
            " 0.15457184 0.1436865  0.14223512 0.13497823 0.08345428 0.00362845\n",
            " 0.04426705 0.02902758 0.02177068 0.55587808 0.30261248 0.89550073\n",
            " 0.         0.55442671 0.53265602 0.88171263 0.99709724]\n",
            "[0.22914072 0.03265488 0.07641798 0.23764634 0.03726765 0.31257783\n",
            " 0.17559153 0.13947696 0.09339975 0.0124533  0.0498132  0.11083437\n",
            " 0.03237858 0.04234122 0.01618929 0.40473225 0.56288917 0.\n",
            " 0.92403487 0.51307597 0.5765878  0.9377335  0.99626401]\n",
            "+-----+--------------------+----------+\n",
            "|label|            features|prediction|\n",
            "+-----+--------------------+----------+\n",
            "|  0.0|[0.32857142857142...|       1.0|\n",
            "|  0.0|[0.18571428571428...|       1.0|\n",
            "|  0.0|[0.55714285714285...|       0.0|\n",
            "|  0.0|[0.27142857142857...|       0.0|\n",
            "|  1.0|[0.57142857142857...|       0.0|\n",
            "|  1.0|[0.28571428571428...|       0.0|\n",
            "|  1.0|[0.17142857142857...|       1.0|\n",
            "|  1.0|[0.27142857142857...|       0.0|\n",
            "|  1.0|[0.28571428571428...|       1.0|\n",
            "|  0.0|[0.2,0.0149984173...|       1.0|\n",
            "|  0.0|[0.24285714285714...|       0.0|\n",
            "|  0.0|[0.1,0.0212558739...|       1.0|\n",
            "|  0.0|[0.48571428571428...|       0.0|\n",
            "|  0.0|[0.34285714285714...|       0.0|\n",
            "|  0.0|[0.22857142857142...|       1.0|\n",
            "|  0.0|[0.52857142857142...|       1.0|\n",
            "|  0.0|[0.21428571428571...|       0.0|\n",
            "|  0.0|[0.2,0.0121983881...|       1.0|\n",
            "|  0.0|[0.04285714285714...|       0.0|\n",
            "|  1.0|[0.38571428571428...|       0.0|\n",
            "+-----+--------------------+----------+\n",
            "only showing top 20 rows\n",
            "\n"
          ],
          "name": "stdout"
        }
      ]
    },
    {
      "cell_type": "markdown",
      "metadata": {
        "id": "FHom8o2KCt36"
      },
      "source": [
        "## 4.2 PCA"
      ]
    },
    {
      "cell_type": "code",
      "metadata": {
        "id": "wT4cx5uGTjmj",
        "colab": {
          "base_uri": "https://localhost:8080/",
          "height": 963
        },
        "outputId": "36d876e8-9a60-4faa-c603-6c86148c06be"
      },
      "source": [
        "#Generate a scatter plot using the first two PCA components to investigate the data distribution.\n",
        "from pyspark.ml.feature import PCA, VectorAssembler\n",
        "from pyspark.ml.linalg import Vectors\n",
        "import matplotlib.pyplot as plt\n",
        "import numpy as np\n",
        "\n",
        "#Setting up PCA parameters, only 2 compinents for plotting\n",
        "pca = PCA(k=2, inputCol=\"scaledFeatures\", outputCol=\"pcaFeatures\")\n",
        "\n",
        "#Applying PCA for dataset (df100)\n",
        "model_pca = pca.fit(X)\n",
        "result_pca = model_pca.transform(X)\n",
        "\n",
        "#Showing some result for PCA\n",
        "result_pca.show(truncate=False)\n",
        "\n",
        "#We need to transforme PCA components into numpy array format for plotting...\n",
        "#Transforme to numpy array also benefits for splitting two PCA components.\n",
        "np_pca_1 = np.array(result_pca.select('pcaFeatures').collect())\n",
        "\n",
        "#Some format setting for numpy array for plotting...removing 1 level for array\n",
        "np_pca = np_pca_1[ :, 0, :]\n",
        "\n",
        "#Scatter plot settings, including size of graph, title, x/y labels, and dot size\n",
        "plt.figure(dpi=120)\n",
        "plt.suptitle('PCA features Scatter plot', fontsize=15)\n",
        "plt.xlabel('components0', fontsize=10)\n",
        "plt.ylabel('components1', fontsize=10)\n",
        "plt.scatter(np_pca[:,0], np_pca[:,1], s=5, alpha=1)\n"
      ],
      "execution_count": null,
      "outputs": [
        {
          "output_type": "stream",
          "text": [
            "+-------------------------------------------------------------------------------------------------------------------------------------------------------------------------------+------------------------------------------+\n",
            "|scaledFeatures                                                                                                                                                                 |pcaFeatures                               |\n",
            "+-------------------------------------------------------------------------------------------------------------------------------------------------------------------------------+------------------------------------------+\n",
            "|[0.21428571428571427,0.05334664361715079,0.0,0.10550996483001172,0.05555555555555555,0.0,0.0,0.0,0.0,0.0,1.0,0.0,0.0,0.0,0.0,1.0,0.0,1.0,0.0,1.0,0.0,1.0,1.0]                  |[-0.9636424850516062,0.3313811478935342]  |\n",
            "|[0.5428571428571428,0.018589759197487277,0.0,0.17116060961313012,0.018518518518518517,0.0,1.0,0.0,0.0,0.0,0.0,0.0,0.0,0.0,0.0,1.0,0.0,1.0,0.0,0.0,0.0,1.0,1.0]                 |[-0.8373410183626879,0.38800241592053153] |\n",
            "|[0.22857142857142856,0.02236371162133866,0.0,0.1981242672919109,0.037037037037037035,0.0,0.0,1.0,0.0,0.0,0.0,0.0,0.0,0.0,0.0,0.0,1.0,1.0,0.0,1.0,0.0,1.0,1.0]                  |[0.1084500265257828,0.6564023408615131]   |\n",
            "|[0.5,0.03904214652674637,0.09090909090909091,0.1746776084407972,0.0,0.0,0.0,0.0,0.0,1.0,0.0,0.0,0.0,0.0,0.0,0.0,1.0,1.0,0.0,0.0,1.0,1.0,1.0]                                   |[0.4795609426700083,1.1082617061107973]   |\n",
            "|[0.2714285714285714,0.07368946458571742,0.09090909090909091,0.19929660023446658,0.05555555555555555,0.0,1.0,0.0,0.0,0.0,0.0,0.0,0.0,0.0,0.0,1.0,0.0,1.0,0.0,1.0,0.0,1.0,1.0]   |[-0.9576794865061752,0.2714643678687502]  |\n",
            "|[0.38571428571428573,0.020927174892259745,0.09090909090909091,0.14654161781946073,0.018518518518518517,0.0,0.0,0.0,0.0,0.0,0.0,0.0,0.0,0.0,1.0,1.0,0.0,1.0,0.0,1.0,1.0,0.0,1.0]|[-0.7879027918969017,0.5145147352059556]  |\n",
            "|[0.4,0.05225098001022619,0.0,0.20281359906213364,0.0,0.0,0.0,0.0,0.0,0.0,0.0,0.0,1.0,0.0,0.0,1.0,0.0,0.0,0.0,0.0,0.0,1.0,1.0]                                                  |[-0.5124304692668863,-0.19176487082431193]|\n",
            "|[0.3142857142857143,0.05222663193007231,0.09090909090909091,0.03048065650644783,0.0,1.0,0.0,0.0,0.0,0.0,0.0,0.0,0.0,0.0,0.0,0.0,1.0,1.0,0.0,0.0,0.0,1.0,1.0]                   |[0.736954776588431,1.035690100126105]     |\n",
            "|[0.2,0.0680772321102481,0.0,0.1488862837045721,0.018518518518518517,0.0,1.0,0.0,0.0,0.0,0.0,0.0,0.0,0.0,0.0,0.0,1.0,1.0,0.0,1.0,0.0,0.0,1.0]                                   |[0.10282606527163511,0.6718228060101549]  |\n",
            "|[0.17142857142857143,0.017518443670716564,0.0,0.2063305978898007,0.0,0.0,0.0,0.0,1.0,0.0,0.0,0.0,0.0,0.0,0.0,1.0,0.0,1.0,0.0,1.0,0.0,0.0,1.0]                                  |[-1.0661514594145955,0.32850428644471996] |\n",
            "|[0.4,0.011419249592169658,0.0,0.19460726846424384,0.0,0.0,1.0,0.0,0.0,0.0,0.0,0.0,0.0,0.0,0.0,0.0,1.0,1.0,0.0,1.0,1.0,1.0,1.0]                                                 |[0.3247429463401867,0.8134787300694728]   |\n",
            "|[0.2857142857142857,0.024932434077572983,0.09090909090909091,0.21336459554513482,0.018518518518518517,0.0,0.0,0.0,0.0,0.0,0.0,0.0,0.0,0.0,1.0,0.0,1.0,1.0,0.0,1.0,0.0,1.0,1.0] |[0.21097521651899825,0.7625432021333769]  |\n",
            "|[0.2,0.02338633098780161,0.09090909090909091,0.15474794841735054,0.0,0.0,0.0,0.0,0.0,0.0,1.0,0.0,0.0,0.0,0.0,1.0,0.0,1.0,0.0,1.0,0.0,1.0,1.0]                                  |[-0.964391570201205,0.32767154073159455]  |\n",
            "|[0.18571428571428572,0.015241898176328797,0.18181818181818182,0.20750293083235638,0.1111111111111111,0.0,0.0,0.0,0.0,0.0,0.0,0.0,1.0,0.0,0.0,1.0,0.0,1.0,0.0,1.0,0.0,1.0,1.0]  |[-0.8970032005901715,0.35148141971077385] |\n",
            "|[0.45714285714285713,0.1638260573153807,0.18181818181818182,0.038686987104337635,0.0,0.0,0.0,0.0,1.0,0.0,0.0,0.0,0.0,0.0,0.0,0.0,0.0,1.0,0.0,1.0,0.0,1.0,1.0]                  |[-0.4724400635986444,0.6034483574148222]  |\n",
            "|[0.4142857142857143,0.011419249592169658,0.0,0.010550996483001172,0.0,0.0,1.0,0.0,0.0,0.0,0.0,0.0,0.0,0.0,0.0,1.0,0.0,1.0,0.0,1.0,1.0,1.0,1.0]                                 |[-0.7840860892766182,0.42145895893297636] |\n",
            "|[0.5857142857142857,0.09723405809451925,0.0,0.1899179366940211,0.018518518518518517,1.0,0.0,0.0,0.0,0.0,0.0,0.0,0.0,0.0,0.0,0.0,1.0,1.0,0.0,1.0,1.0,1.0,1.0]                   |[0.7640855001185647,1.1175087314877639]   |\n",
            "|[0.18571428571428572,0.11646904141608434,0.0,0.21453692848769051,0.018518518518518517,1.0,0.0,0.0,0.0,0.0,0.0,0.0,0.0,0.0,0.0,1.0,0.0,1.0,0.0,1.0,0.0,1.0,1.0]                 |[-0.5078194714105166,0.5364599694359973]  |\n",
            "|[0.5,0.03305251880889192,0.36363636363636365,0.17936694021101993,0.0,0.0,0.0,0.0,1.0,0.0,0.0,0.0,0.0,0.0,0.0,1.0,0.0,1.0,0.0,1.0,0.0,1.0,1.0]                                  |[-1.0209821083288566,0.36510796039610316] |\n",
            "|[0.3142857142857143,0.03145771955881279,0.0,0.2825322391559203,0.018518518518518517,0.0,1.0,0.0,0.0,0.0,0.0,0.0,0.0,0.0,0.0,0.0,1.0,0.0,1.0,1.0,0.0,1.0,1.0]                   |[0.682366598736503,-0.5902523648089854]   |\n",
            "+-------------------------------------------------------------------------------------------------------------------------------------------------------------------------------+------------------------------------------+\n",
            "only showing top 20 rows\n",
            "\n"
          ],
          "name": "stdout"
        },
        {
          "output_type": "execute_result",
          "data": {
            "text/plain": [
              "<matplotlib.collections.PathCollection at 0x7f99cf9f2748>"
            ]
          },
          "metadata": {
            "tags": []
          },
          "execution_count": 14
        },
        {
          "output_type": "display_data",
          "data": {
            "image/png": "[encoded data removed]",
            "text/plain": [
              "<Figure size 720x480 with 1 Axes>"
            ]
          },
          "metadata": {
            "tags": []
          }
        }
      ]
    },
    {
      "cell_type": "markdown",
      "metadata": {
        "id": "ulp_uILXCv4Z"
      },
      "source": [
        "# 5.Supervised learning"
      ]
    },
    {
      "cell_type": "code",
      "metadata": {
        "id": "0O7tszcPfnHN",
        "colab": {
          "base_uri": "https://localhost:8080/",
          "height": 50
        },
        "outputId": "f659d3cb-1dd0-49f3-b0d7-429945d3e37e"
      },
      "source": [
        "train, test = df2.randomSplit([0.7, 0.3], seed = 742)\n",
        "print(\"Training Dataset Count: \" + str(train.count()))\n",
        "print(\"Test Dataset Count: \" + str(test.count()))"
      ],
      "execution_count": null,
      "outputs": [
        {
          "output_type": "stream",
          "text": [
            "Training Dataset Count: 7822\n",
            "Test Dataset Count: 3340\n"
          ],
          "name": "stdout"
        }
      ]
    },
    {
      "cell_type": "markdown",
      "metadata": {
        "id": "2SsHdh7YC-eN"
      },
      "source": [
        "## 5.1 LogisticRegression"
      ]
    },
    {
      "cell_type": "code",
      "metadata": {
        "id": "Vqo_ywFQYxSj",
        "colab": {
          "base_uri": "https://localhost:8080/",
          "height": 863
        },
        "outputId": "cdaf975d-b41e-4ab1-aaaa-8dd06865f3fe"
      },
      "source": [
        "#Splitting dataframe into traning set and test set\n",
        "train, test = df100.randomSplit([0.7, 0.3], seed = 742)\n",
        "\n",
        "#...and print how many rows in both traning and test set. \n",
        "print(\"Training Dataset Count: \" + str(train.count()))\n",
        "print(\"Test Dataset Count: \" + str(test.count()))\n",
        "\n",
        "\n",
        "\n",
        "# Logistic Regression\n",
        "from pyspark.ml.classification import LogisticRegression\n",
        "from pyspark.ml.evaluation import MulticlassClassificationEvaluator\n",
        "from pyspark.ml.evaluation import BinaryClassificationEvaluator\n",
        "\n",
        "#Setting up LogisticRegression parametrs\n",
        "lr = LogisticRegression(featuresCol = 'features', labelCol = 'label', maxIter=10)\n",
        "\n",
        "#Training LogisticRegression model\n",
        "lrModel = lr.fit(train)\n",
        "\n",
        "#...and apply to test set\n",
        "lr_predictions = lrModel.transform(test)\n",
        "\n",
        "coefficients = lrModel.coefficients\n",
        "print(coefficients)\n",
        "\n",
        "#Showing some prediction result for LogisticRegression\n",
        "lr_predictions.select('label', 'features', 'rawPrediction', 'prediction', 'probability').show(10)\n",
        "\n",
        "#Selecitng BinaryClassificationEvaluator and MulticlassClassificationEvaluator as the ROC/accuracy evaluator\n",
        "lr_evaluator = BinaryClassificationEvaluator()\n",
        "lr_acc_evaluator = MulticlassClassificationEvaluator()\n",
        "\n",
        "#Generating traning summary for LogisticRegression\n",
        "lr_trainingSummary = lrModel.summary\n",
        "\n",
        "#Transforming summary's ROC part to dataframe\n",
        "lr_roc = lr_trainingSummary.roc.toPandas()\n",
        "\n",
        "#...and start plotting\n",
        "plt.figure(dpi=120)\n",
        "plt.title('ROC Curve', fontsize=15)\n",
        "plt.xlabel('True Positive Rate', fontsize=10)\n",
        "plt.ylabel('False Positive Rate', fontsize=10)\n",
        "plt.plot(lr_roc['FPR'],lr_roc['TPR'])\n",
        "plt.show()\n",
        "\n",
        "#Showing AUC for training set\n",
        "print('Training set areaUnderROC: ' + str(lr_trainingSummary.areaUnderROC))\n",
        "\n",
        "#Showing AUC for test set\n",
        "print(\"Test Area Under ROC: \" + str(lr_evaluator.evaluate(lr_predictions, {lr_evaluator.metricName: \"areaUnderROC\"})))\n",
        "\n",
        "#Showing accuracy for Logistic Regression predicting test set.\n",
        "print(\"Test Accuracy: \" + str(lr_acc_evaluator.evaluate(lr_predictions, {lr_acc_evaluator.metricName: \"accuracy\"})))\n",
        "\n"
      ],
      "execution_count": null,
      "outputs": [
        {
          "output_type": "stream",
          "text": [
            "Training Dataset Count: 1515\n",
            "Test Dataset Count: 666\n",
            "[0.08910052817040996,-2.5330391889470287,1.5744419935232437,0.22334012696117736,-2.137014520719571,-0.08064996315380436,0.08988190479135173,0.16160485237167804,0.3936296057030715,-0.22968167480297885,0.02027481125246283,-0.7113651098476432,-0.5521203015431844,0.2194744901860317,0.30114497106669935,-0.1273254231111347,-0.10298363991604886,-0.07956266029999945,-0.007122973868905803,1.8494736254287796,-0.8079248235357885,-0.43604087035913586,-0.3235831515951325]\n",
            "+-----+--------------------+--------------------+----------+--------------------+\n",
            "|label|            features|       rawPrediction|prediction|         probability|\n",
            "+-----+--------------------+--------------------+----------+--------------------+\n",
            "|  0.0|[0.18571428571428...|[2.11773312589031...|       0.0|[0.89261483479767...|\n",
            "|  0.0|[0.55714285714285...|[0.41467894590012...|       0.0|[0.60220926985505...|\n",
            "|  1.0|[0.28571428571428...|[-0.1737973620798...|       1.0|[0.45665969764118...|\n",
            "|  0.0|[0.21428571428571...|[-0.3538875484484...|       1.0|[0.41244001923277...|\n",
            "|  0.0|[0.21428571428571...|[0.71436320670203...|       0.0|[0.67136455118632...|\n",
            "|  0.0|[0.65714285714285...|[2.42589657287125...|       0.0|[0.91878085011024...|\n",
            "|  1.0|[0.52857142857142...|[0.41717289192286...|       0.0|[0.60280655020895...|\n",
            "|  0.0|[0.2,0.0141584086...|[-0.5152345786280...|       1.0|[0.37396722206112...|\n",
            "|  0.0|[0.31428571428571...|[-0.2591453562122...|       1.0|[0.43557381016363...|\n",
            "|  0.0|[0.32857142857142...|[0.53424889425940...|       0.0|[0.63047355270577...|\n",
            "+-----+--------------------+--------------------+----------+--------------------+\n",
            "only showing top 10 rows\n",
            "\n"
          ],
          "name": "stdout"
        },
        {
          "output_type": "display_data",
          "data": {
            "image/png": "[encoded data removed]",
            "text/plain": [
              "<Figure size 720x480 with 1 Axes>"
            ]
          },
          "metadata": {
            "tags": []
          }
        },
        {
          "output_type": "stream",
          "text": [
            "Training set areaUnderROC: 0.806791036287112\n",
            "Test Area Under ROC: 0.8196603354319874\n",
            "Test Accuracy: 0.7717717717717718\n"
          ],
          "name": "stdout"
        }
      ]
    },
    {
      "cell_type": "code",
      "metadata": {
        "id": "hANwFUzhgG83",
        "colab": {
          "base_uri": "https://localhost:8080/",
          "height": 270
        },
        "outputId": "e8775978-4cc2-453d-9fac-64e62d6d9fd8"
      },
      "source": [
        "#Exam the coefficients\n",
        "import matplotlib.pyplot as plt\n",
        "import numpy as np\n",
        "\n",
        "#Storing coefficients into numpy array\n",
        "beta = np.sort(lrModel.coefficients)\n",
        "\n",
        "#...and plotting\n",
        "plt.plot(beta)\n",
        "plt.ylabel('Beta Coefficients')\n",
        "plt.show()"
      ],
      "execution_count": null,
      "outputs": [
        {
          "output_type": "display_data",
          "data": {
            "image/png": "[encoded data removed]",
            "text/plain": [
              "<Figure size 432x288 with 1 Axes>"
            ]
          },
          "metadata": {
            "tags": []
          }
        }
      ]
    },
    {
      "cell_type": "markdown",
      "metadata": {
        "id": "evM5eiJoDHw2"
      },
      "source": [
        "## 5.2 Decision tree"
      ]
    },
    {
      "cell_type": "code",
      "metadata": {
        "id": "He4mlHb7hBoY",
        "colab": {
          "base_uri": "https://localhost:8080/",
          "height": 310
        },
        "outputId": "7fd6761c-24b3-4757-dab5-a855853e46b7"
      },
      "source": [
        "#Decision tree\n",
        "from pyspark.ml.classification import DecisionTreeClassifier \n",
        "\n",
        "#Setting up Decision Tree Classifier\n",
        "dt = DecisionTreeClassifier(featuresCol = 'features', labelCol = 'label', maxDepth = 5)\n",
        "\n",
        "#Training Decision Tree model...\n",
        "dtModel = dt.fit(train)\n",
        "\n",
        "#...and apply to test set\n",
        "dt_predictions = dtModel.transform(test)\n",
        "\n",
        "#Showing some predictions for Decision Tree model on test set\n",
        "dt_predictions.select('label', 'features', 'rawPrediction', 'prediction', 'probability').show(10)\n",
        "\n",
        "#Importing two evaluator as same as LogisticRegression\n",
        "dt_evaluator = BinaryClassificationEvaluator()\n",
        "dt_acc_evaluator = MulticlassClassificationEvaluator()\n",
        "\n",
        "#Showing AUC for test set\n",
        "print(\"Test Area Under ROC: \" + str(dt_evaluator.evaluate(dt_predictions, {dt_evaluator.metricName: \"areaUnderROC\"})))\n",
        "\n",
        "#Showing accuracy for test set\n",
        "print(\"Test Accuracy: \" + str(dt_acc_evaluator.evaluate(dt_predictions, {dt_acc_evaluator.metricName: \"accuracy\"})))"
      ],
      "execution_count": null,
      "outputs": [
        {
          "output_type": "stream",
          "text": [
            "+-----+--------------------+-------------+----------+--------------------+\n",
            "|label|            features|rawPrediction|prediction|         probability|\n",
            "+-----+--------------------+-------------+----------+--------------------+\n",
            "|  0.0|[0.18571428571428...| [309.0,37.0]|       0.0|[0.89306358381502...|\n",
            "|  0.0|[0.55714285714285...|   [73.0,9.0]|       0.0|[0.89024390243902...|\n",
            "|  1.0|[0.28571428571428...|[141.0,286.0]|       1.0|[0.33021077283372...|\n",
            "|  0.0|[0.21428571428571...|[141.0,286.0]|       1.0|[0.33021077283372...|\n",
            "|  0.0|[0.21428571428571...|   [73.0,9.0]|       0.0|[0.89024390243902...|\n",
            "|  0.0|[0.65714285714285...|    [0.0,2.0]|       1.0|           [0.0,1.0]|\n",
            "|  1.0|[0.52857142857142...|  [77.0,62.0]|       0.0|[0.55395683453237...|\n",
            "|  0.0|[0.2,0.0141584086...|[141.0,286.0]|       1.0|[0.33021077283372...|\n",
            "|  0.0|[0.31428571428571...|[141.0,286.0]|       1.0|[0.33021077283372...|\n",
            "|  0.0|[0.32857142857142...| [298.0,15.0]|       0.0|[0.95207667731629...|\n",
            "+-----+--------------------+-------------+----------+--------------------+\n",
            "only showing top 10 rows\n",
            "\n",
            "Test Area Under ROC: 0.7408973070207925\n",
            "Test Accuracy: 0.7612612612612613\n"
          ],
          "name": "stdout"
        }
      ]
    },
    {
      "cell_type": "markdown",
      "metadata": {
        "id": "CaE-Z_IlDKXF"
      },
      "source": [
        "## 5.3 NaiveBayes"
      ]
    },
    {
      "cell_type": "code",
      "metadata": {
        "id": "v2XL6I0t7irt",
        "colab": {
          "base_uri": "https://localhost:8080/",
          "height": 310
        },
        "outputId": "56a6448f-1686-4970-c3dc-50718bac5f02"
      },
      "source": [
        "#NaiveBayes\n",
        "from pyspark.ml.classification import NaiveBayes\n",
        "from pyspark.ml.evaluation import MulticlassClassificationEvaluator\n",
        "\n",
        "#Setting up NaiveBayes model\n",
        "by = NaiveBayes(featuresCol = 'features', labelCol = 'label')\n",
        "\n",
        "#Training NaiveBayes model...\n",
        "byModel = by.fit(train)\n",
        "\n",
        "#...and apply to test set\n",
        "by_predictions = byModel.transform(test)\n",
        "\n",
        "#Showing some predictions for aiveBayes model on test set\n",
        "by_predictions.select('label', 'features', 'rawPrediction', 'prediction', 'probability').show(10)\n",
        "\n",
        "#Importing two evaluator as same as LogisticRegression\n",
        "by_evaluator = BinaryClassificationEvaluator()\n",
        "by_acc_evaluator = MulticlassClassificationEvaluator()\n",
        "\n",
        "#Showing AUC for test set\n",
        "print(\"Test Area Under ROC: \" + str(by_evaluator.evaluate(by_predictions, {by_evaluator.metricName: \"areaUnderROC\"})))\n",
        "\n",
        "#Showing accuracy for test set\n",
        "print(\"Test Accuracy: \" + str(by_acc_evaluator.evaluate(by_predictions, {by_acc_evaluator.metricName: \"accuracy\"})))"
      ],
      "execution_count": null,
      "outputs": [
        {
          "output_type": "stream",
          "text": [
            "+-----+--------------------+--------------------+----------+--------------------+\n",
            "|label|            features|       rawPrediction|prediction|         probability|\n",
            "+-----+--------------------+--------------------+----------+--------------------+\n",
            "|  0.0|[0.18571428571428...|[-14.783775233728...|       0.0|[0.84410063258126...|\n",
            "|  0.0|[0.55714285714285...|[-19.048538920690...|       0.0|[0.74878757430767...|\n",
            "|  1.0|[0.28571428571428...|[-18.398229673645...|       0.0|[0.58751182730099...|\n",
            "|  0.0|[0.21428571428571...|[-17.990454520573...|       1.0|[0.41573954066616...|\n",
            "|  0.0|[0.21428571428571...|[-19.611940391948...|       0.0|[0.82906266777012...|\n",
            "|  0.0|[0.65714285714285...|[-20.015253792344...|       0.0|[0.93162729210364...|\n",
            "|  1.0|[0.52857142857142...|[-21.444464827817...|       0.0|[0.82524335053180...|\n",
            "|  0.0|[0.2,0.0141584086...|[-17.615862065040...|       1.0|[0.30220553421147...|\n",
            "|  0.0|[0.31428571428571...|[-18.585433793006...|       0.0|[0.58310791765286...|\n",
            "|  0.0|[0.32857142857142...|[-13.053061782113...|       0.0|[0.57554748374765...|\n",
            "+-----+--------------------+--------------------+----------+--------------------+\n",
            "only showing top 10 rows\n",
            "\n",
            "Test Area Under ROC: 0.5544256917623411\n",
            "Test Accuracy: 0.7492492492492493\n"
          ],
          "name": "stdout"
        }
      ]
    }
  ]
}